{
 "cells": [
  {
   "cell_type": "markdown",
   "id": "6d5cff83",
   "metadata": {},
   "source": [
    "# Assignment — Introduction to network science"
   ]
  },
  {
   "cell_type": "code",
   "execution_count": null,
   "id": "0ced9681",
   "metadata": {},
   "outputs": [],
   "source": [
    "import requests\n",
    "import numpy as np\n",
    "import matplotlib.pyplot as plt\n",
    "from zlib import adler32\n",
    "import networkx as nx"
   ]
  },
  {
   "cell_type": "markdown",
   "id": "bd114250",
   "metadata": {},
   "source": [
    "### Install networkx"
   ]
  },
  {
   "cell_type": "markdown",
   "id": "61d47fb8",
   "metadata": {},
   "source": [
    "In this assignment, we will consider some basics of networkx"
   ]
  },
  {
   "cell_type": "code",
   "execution_count": null,
   "id": "8b694b20",
   "metadata": {},
   "outputs": [],
   "source": [
    "assert nx.__version__ >= '2.5'"
   ]
  },
  {
   "cell_type": "markdown",
   "id": "a93d9ef2",
   "metadata": {},
   "source": [
    "In case of an exception, install networkx 2.5 using `pip` as follows:\n",
    "```\n",
    "pip uninstall networkx\n",
    "pip install networkx==2.5\n",
    "```"
   ]
  },
  {
   "cell_type": "markdown",
   "id": "e9de0dbb",
   "metadata": {},
   "source": [
    "### Task 1. Reading graph from a file (0 points)"
   ]
  },
  {
   "cell_type": "code",
   "execution_count": null,
   "id": "4fdc8c5b",
   "metadata": {},
   "outputs": [],
   "source": [
    "url = 'https://raw.githubusercontent.com/netspractice/network-science/main/datasets/the_lord_of_the_rings_adjlist.txt'\n",
    "open('the_lord_of_the_rings_adjlist.txt', 'wb').write(requests.get(url).content)\n",
    "\n",
    "url = 'https://raw.githubusercontent.com/netspractice/network-science/main/datasets/the_lord_of_the_rings_edgelist.txt'\n",
    "open('the_lord_of_the_rings_edgelist.txt', 'wb').write(requests.get(url).content);\n"
   ]
  },
  {
   "cell_type": "markdown",
   "id": "76277346",
   "metadata": {},
   "source": [
    "A common representation of a graph is an adjacency matrix, but many real-world graphs are sparse (many zeros in an adjacency matrix), so in most cases data is stored in cheap sparse formats\n",
    "1. edge list\n",
    "2. adjacency list\n",
    "\n",
    "Edge list is a list of pairs of nodes — a target and destination of edges. Here is an edge list of an interaction network of films \"The Lord of the Rings\" (2001-2003)."
   ]
  },
  {
   "cell_type": "code",
   "execution_count": null,
   "id": "1b292273",
   "metadata": {},
   "outputs": [],
   "source": [
    "with open('the_lord_of_the_rings_edgelist.txt') as f:\n",
    "    print(f.read()[:197])"
   ]
  },
  {
   "cell_type": "markdown",
   "id": "66276238",
   "metadata": {},
   "source": [
    "Adjacency list is a list of lists of nodes where the first node is a root and others are leaves"
   ]
  },
  {
   "cell_type": "code",
   "execution_count": null,
   "id": "ed297ad2",
   "metadata": {},
   "outputs": [],
   "source": [
    "with open('the_lord_of_the_rings_adjlist.txt') as f:\n",
    "    print(f.read()[:190])"
   ]
  },
  {
   "cell_type": "markdown",
   "id": "80734949",
   "metadata": {},
   "source": [
    "For most cases we can use given functions in networkx:\n",
    "\n",
    "* `nx.read_adjlist`\n",
    "* `nx.read_edgelist`\n",
    "* `nx.read_weighted_edgelist`\n",
    "\n",
    "In the further task, read graphs `the_lord_of_the_rings_edgelist.txt`, `the_lord_of_the_rings_adjlist.txt` and combine them into a single graph such that the same nodes are merged in a single node preserving all adjacent edges.\n",
    "\n",
    "*Hint: use `graph.add_edges_from`*"
   ]
  },
  {
   "cell_type": "code",
   "execution_count": null,
   "id": "66bcb34a",
   "metadata": {
    "deletable": false,
    "nbgrader": {
     "cell_type": "code",
     "checksum": "fed185238ff4d2e14377e4382851f288",
     "grade": false,
     "grade_id": "cell-3d2796d8ac544282",
     "locked": false,
     "schema_version": 3,
     "solution": true,
     "task": false
    }
   },
   "outputs": [],
   "source": [
    "def read_and_merge_graphs(edgelist_path, adjlist_path):\n",
    "    # YOUR CODE HERE\n",
    "    raise NotImplementedError()"
   ]
  },
  {
   "cell_type": "code",
   "execution_count": null,
   "id": "6657cf91",
   "metadata": {
    "deletable": false,
    "editable": false,
    "nbgrader": {
     "cell_type": "code",
     "checksum": "bed55ce12e54531965a943ffde15e1d9",
     "grade": true,
     "grade_id": "cell-d59c4e439b3aa75d",
     "locked": true,
     "points": 0.0,
     "schema_version": 3,
     "solution": false,
     "task": false
    }
   },
   "outputs": [],
   "source": [
    "G = read_and_merge_graphs(\"the_lord_of_the_rings_edgelist.txt\", \n",
    "                          \"the_lord_of_the_rings_adjlist.txt\")\n",
    "assert set(G.neighbors('SAM')) == {\n",
    "    'BILBO',\n",
    "    'ELROND',\n",
    "    'FRODO',\n",
    "    'GALADRIEL',\n",
    "    'GANDALF',\n",
    "    'GOLLUM',\n",
    "    'GORBAG',\n",
    "    'SHAGRAT',\n",
    "    'SMEAGOL'}\n",
    "assert nx.number_of_nodes(G) == 35\n",
    "assert nx.number_of_edges(G) == 98"
   ]
  },
  {
   "cell_type": "code",
   "execution_count": null,
   "id": "5da9663e",
   "metadata": {},
   "outputs": [],
   "source": [
    "plt.figure(figsize=(12, 8))\n",
    "nx.draw_networkx(G)"
   ]
  },
  {
   "cell_type": "markdown",
   "id": "0ed53f39",
   "metadata": {},
   "source": [
    "### Task 2. Nodes labeling (0 points)"
   ]
  },
  {
   "cell_type": "markdown",
   "id": "5cd36cef",
   "metadata": {},
   "source": [
    "Nodes in many real-world graphs represents some objects, say people in social networks or atoms in molecular networks. Usually, names of such nodes is in the string format, but in many cases it can be useful to make names and indices of nodes equal. Using such labeling, we can refer to a particular node by its index.\n",
    "\n",
    "Write a function `convert_node_names_to_int` that takes a graph with string names and returns a new graph with integer names so that first node in the initial graph is called 0 in the new graph, second is 1 and so on. Also, save initial names in the node attribute `name`."
   ]
  },
  {
   "cell_type": "code",
   "execution_count": null,
   "id": "f6a1d788",
   "metadata": {
    "deletable": false,
    "nbgrader": {
     "cell_type": "code",
     "checksum": "1cc38a3cde9d3cfc3208b4d72c77f77d",
     "grade": false,
     "grade_id": "cell-00a45e63001782dc",
     "locked": false,
     "schema_version": 3,
     "solution": true,
     "task": false
    }
   },
   "outputs": [],
   "source": [
    "def convert_node_names_to_int(G):\n",
    "    # YOUR CODE HERE\n",
    "    raise NotImplementedError()"
   ]
  },
  {
   "cell_type": "code",
   "execution_count": null,
   "id": "4a694f83",
   "metadata": {
    "deletable": false,
    "editable": false,
    "nbgrader": {
     "cell_type": "code",
     "checksum": "55c956788cf70bd277812fc921cc060f",
     "grade": true,
     "grade_id": "cell-8e24f330185f725a",
     "locked": true,
     "points": 0.0,
     "schema_version": 3,
     "solution": false,
     "task": false
    }
   },
   "outputs": [],
   "source": [
    "newG = convert_node_names_to_int(G)\n",
    "for i in range(len(G)):\n",
    "    assert list(G.nodes)[i] == newG.nodes[i]['name']\n",
    "assert np.allclose(nx.to_numpy_array(G), nx.to_numpy_array(newG))"
   ]
  },
  {
   "cell_type": "markdown",
   "id": "f0de8b2d",
   "metadata": {},
   "source": [
    "### Task 3. Directed graphs (0 points)"
   ]
  },
  {
   "cell_type": "markdown",
   "id": "8df9b0ba",
   "metadata": {},
   "source": [
    "The direction of edges could be crucial feature for many tasks, e.g. link analysis. Directed edges are also known as links or arcs. In networkx, the type of graph is defined by a constructor: `nx.Graph` for undirected graph, `nx.DiGraph` for directed graph. A directed graph can have an asymmetric adjacency matrix."
   ]
  },
  {
   "cell_type": "code",
   "execution_count": null,
   "id": "0e193abb",
   "metadata": {},
   "outputs": [],
   "source": [
    "diG = nx.DiGraph()\n",
    "diG.add_edges_from([[0, 1], [1, 2]])\n",
    "nx.to_numpy_array(diG)"
   ]
  },
  {
   "cell_type": "markdown",
   "id": "85e8eb66",
   "metadata": {},
   "source": [
    "Write a function `convert_to_digraph` that takes an undirected graph and returns a new directed graph where the direction is defined by the rule: the node $i$ follows to $j$ if the length of `name` of $i$ is at least the length of `name` of $j$. Keep the ordering of nodes and the node attribute `name`."
   ]
  },
  {
   "cell_type": "code",
   "execution_count": null,
   "id": "7b2eda80",
   "metadata": {
    "deletable": false,
    "nbgrader": {
     "cell_type": "code",
     "checksum": "cb6d01f1037b300cb5985bf659604f4c",
     "grade": false,
     "grade_id": "cell-4ff100c55840771c",
     "locked": false,
     "schema_version": 3,
     "solution": true,
     "task": false
    }
   },
   "outputs": [],
   "source": [
    "def convert_to_digraph(G):\n",
    "    # YOUR CODE HERE\n",
    "    raise NotImplementedError()"
   ]
  },
  {
   "cell_type": "code",
   "execution_count": null,
   "id": "c2a8fa06",
   "metadata": {
    "deletable": false,
    "editable": false,
    "nbgrader": {
     "cell_type": "code",
     "checksum": "6a9ca3fa5e3fd744b5a47af81a2a0fde",
     "grade": true,
     "grade_id": "cell-bfab7d9d16583e9c",
     "locked": true,
     "points": 0.0,
     "schema_version": 3,
     "solution": false,
     "task": false
    }
   },
   "outputs": [],
   "source": [
    "newG = nx.convert_node_labels_to_integers(G, label_attribute='name')\n",
    "diG = convert_to_digraph(newG)\n",
    "assert list(diG.nodes) == list(newG.nodes)\n",
    "for i, j in diG.edges:\n",
    "    assert len(diG.nodes[i]['name']) >= len(diG.nodes[j]['name'])\n",
    "assert len(diG.edges) == 117"
   ]
  },
  {
   "cell_type": "markdown",
   "id": "7d1ffb65",
   "metadata": {},
   "source": [
    "### Task 4. Basic statistics (0 points)"
   ]
  },
  {
   "cell_type": "markdown",
   "id": "e1e5489c",
   "metadata": {},
   "source": [
    "Let us consider the basic graph statistics:\n",
    "* **node eccentricity** is maximum shortest path from the node\n",
    "* `nx.radius` is the minimum eccentricity\n",
    "* `nx.diameter` is the maximum eccentricity\n",
    "* `nx.average_shortest_path_length` is the average shortest path length\n",
    "* **clustering coefficient** is the number of edges between neighbors devided by the maximum number of edges between neighbors\n",
    "* `nx.average_clustering` is the average clustering coefficient\n",
    "\n",
    "For example, here are statistics of a path graph with 3 nodes:"
   ]
  },
  {
   "cell_type": "code",
   "execution_count": null,
   "id": "49ff54ed",
   "metadata": {},
   "outputs": [],
   "source": [
    "G = nx.path_graph(3)\n",
    "print('Radius: ', nx.radius(G))\n",
    "print('Diameter: ', nx.diameter(G))\n",
    "print('Average shortest path length: ', nx.average_shortest_path_length(G))\n",
    "print('Average clustering coefficient: ', nx.average_clustering(G))\n",
    "nx.draw_networkx(G)"
   ]
  },
  {
   "cell_type": "markdown",
   "id": "30a6da11",
   "metadata": {},
   "source": [
    "Your task is to create graphs by given statistics. We can create a graph using simple networkx interfaces. For example, we can create a graph by passing an edgelist."
   ]
  },
  {
   "cell_type": "code",
   "execution_count": null,
   "id": "87b28a50",
   "metadata": {},
   "outputs": [],
   "source": [
    "G = nx.Graph([[0, 1], [1, 2], [2, 0]])\n",
    "nx.draw_networkx(G)"
   ]
  },
  {
   "cell_type": "markdown",
   "id": "86d3cea1",
   "metadata": {},
   "source": [
    "Or create an empty graph and then add edges one by one."
   ]
  },
  {
   "cell_type": "code",
   "execution_count": null,
   "id": "884614ce",
   "metadata": {},
   "outputs": [],
   "source": [
    "G = nx.Graph()\n",
    "G.add_edge(0, 1)\n",
    "G.add_edge(1, 2)\n",
    "G.add_edge(2, 0)\n",
    "nx.draw_networkx(G)"
   ]
  },
  {
   "cell_type": "markdown",
   "id": "62e37777",
   "metadata": {},
   "source": [
    "Your task is to create graphs by given statistics.\n",
    "\n",
    "Write a function `graph1` that returns a graph with a radius 3 and diameter 3."
   ]
  },
  {
   "cell_type": "code",
   "execution_count": null,
   "id": "fc484c71",
   "metadata": {
    "deletable": false,
    "nbgrader": {
     "cell_type": "code",
     "checksum": "c84fe0f878bf1198b5cb5ac8e59208be",
     "grade": false,
     "grade_id": "cell-1b71ec27d5c70dc5",
     "locked": false,
     "schema_version": 3,
     "solution": true,
     "task": false
    }
   },
   "outputs": [],
   "source": [
    "def graph1():\n",
    "    # YOUR CODE HERE\n",
    "    raise NotImplementedError()"
   ]
  },
  {
   "cell_type": "code",
   "execution_count": null,
   "id": "4ee35e67",
   "metadata": {
    "deletable": false,
    "editable": false,
    "nbgrader": {
     "cell_type": "code",
     "checksum": "4dca4a3b9d9d6f484b70dcc501e42161",
     "grade": true,
     "grade_id": "cell-02d925c056e1f040",
     "locked": true,
     "points": 0.0,
     "schema_version": 3,
     "solution": false,
     "task": false
    }
   },
   "outputs": [],
   "source": [
    "G = graph1()\n",
    "assert nx.radius(G) == nx.diameter(G) == 3\n",
    "nx.draw_networkx(G)"
   ]
  },
  {
   "cell_type": "markdown",
   "id": "db5feb5d",
   "metadata": {},
   "source": [
    "Write a function `graph2` that returns a graph with a diameter of at least 5 average shortest path lengths."
   ]
  },
  {
   "cell_type": "code",
   "execution_count": null,
   "id": "fc1c718c",
   "metadata": {
    "deletable": false,
    "nbgrader": {
     "cell_type": "code",
     "checksum": "799f8a31e39135ad10909330531c9bd1",
     "grade": false,
     "grade_id": "cell-e6b06880520f2cf7",
     "locked": false,
     "schema_version": 3,
     "solution": true,
     "task": false
    }
   },
   "outputs": [],
   "source": [
    "def graph2():\n",
    "    # YOUR CODE HERE\n",
    "    raise NotImplementedError()"
   ]
  },
  {
   "cell_type": "code",
   "execution_count": null,
   "id": "72adf9f4",
   "metadata": {
    "deletable": false,
    "editable": false,
    "nbgrader": {
     "cell_type": "code",
     "checksum": "a7196530f74f85fe30a631c75cc8dce7",
     "grade": true,
     "grade_id": "cell-a6c86b83e11199d8",
     "locked": true,
     "points": 0.0,
     "schema_version": 3,
     "solution": false,
     "task": false
    }
   },
   "outputs": [],
   "source": [
    "G = graph2()\n",
    "assert nx.diameter(G) >= 5 * nx.average_shortest_path_length(G)\n",
    "nx.draw_networkx(G)"
   ]
  },
  {
   "cell_type": "markdown",
   "id": "47f4b7d2",
   "metadata": {},
   "source": [
    "Write a function `graph3` that returns a graph with an average clustering coefficient between 0.1 and 0.11."
   ]
  },
  {
   "cell_type": "code",
   "execution_count": null,
   "id": "f14cbf51",
   "metadata": {
    "deletable": false,
    "nbgrader": {
     "cell_type": "code",
     "checksum": "6cb68bce05eee60aee8b3beb96ecbb80",
     "grade": false,
     "grade_id": "cell-eda0d295af4fc263",
     "locked": false,
     "schema_version": 3,
     "solution": true,
     "task": false
    }
   },
   "outputs": [],
   "source": [
    "def graph3():\n",
    "    # YOUR CODE HERE\n",
    "    raise NotImplementedError()"
   ]
  },
  {
   "cell_type": "code",
   "execution_count": null,
   "id": "bffa74e9",
   "metadata": {
    "deletable": false,
    "editable": false,
    "nbgrader": {
     "cell_type": "code",
     "checksum": "e95e5bf41c626a5a617825f68cb278d0",
     "grade": true,
     "grade_id": "cell-d4aeb27141847c83",
     "locked": true,
     "points": 0.0,
     "schema_version": 3,
     "solution": false,
     "task": false
    }
   },
   "outputs": [],
   "source": [
    "G = graph3()\n",
    "assert 0.1 <= nx.average_clustering(G) <= 0.11\n",
    "nx.draw_networkx(G)"
   ]
  },
  {
   "cell_type": "markdown",
   "id": "78f68a99",
   "metadata": {},
   "source": [
    "### Task 5. Graph layout (2 points)"
   ]
  },
  {
   "cell_type": "markdown",
   "id": "04d5a74a",
   "metadata": {},
   "source": [
    "A graph layout is a dictionary with a location of every node: keys are nodes and values are x, y positions. By default in `nx.draw_networkx`, it is the spring layout — a force-directed representation of the network treating edges as springs holding nodes close, while treating nodes as repelling objects."
   ]
  },
  {
   "cell_type": "code",
   "execution_count": null,
   "id": "8577dbb5",
   "metadata": {},
   "outputs": [],
   "source": [
    "G = nx.barabasi_albert_graph(10, 2)\n",
    "layout = nx.spring_layout(G)\n",
    "layout"
   ]
  },
  {
   "cell_type": "code",
   "execution_count": null,
   "id": "78719e13",
   "metadata": {},
   "outputs": [],
   "source": [
    "nx.draw_networkx(G, pos=layout)"
   ]
  },
  {
   "cell_type": "markdown",
   "id": "13ee6ffc",
   "metadata": {},
   "source": [
    "The Kamada Kawai layout is based on path-length cost-function. Sometimes, it is quite similar to the spring layout, however a significant difference is that the spring layout is random and the Kamada Kawai is deterministic."
   ]
  },
  {
   "cell_type": "code",
   "execution_count": null,
   "id": "f00fc5fc",
   "metadata": {},
   "outputs": [],
   "source": [
    "layout = nx.kamada_kawai_layout(G)\n",
    "nx.draw_networkx(G, pos=layout)"
   ]
  },
  {
   "cell_type": "markdown",
   "id": "359fbcd7",
   "metadata": {},
   "source": [
    "Circular layout allows to draw a graph where nodes are in a circle."
   ]
  },
  {
   "cell_type": "code",
   "execution_count": null,
   "id": "48a748ef",
   "metadata": {},
   "outputs": [],
   "source": [
    "layout = nx.circular_layout(G)\n",
    "plt.figure(figsize=(5, 5))\n",
    "nx.draw_networkx(G, pos=layout)"
   ]
  },
  {
   "cell_type": "markdown",
   "id": "27822f59",
   "metadata": {},
   "source": [
    "Bipartite layout allows to draw bipartite graph."
   ]
  },
  {
   "cell_type": "code",
   "execution_count": null,
   "id": "96ffe16a",
   "metadata": {},
   "outputs": [],
   "source": [
    "B = nx.Graph()\n",
    "B.add_nodes_from([1, 2, 3, 4], bipartite=0)\n",
    "B.add_nodes_from([\"a\", \"b\", \"c\"], bipartite=1)\n",
    "B.add_edges_from([(1, \"a\"), (1, \"b\"), (2, \"b\"), (2, \"c\"), (3, \"c\"), (4, \"a\")])\n",
    "layout = nx.bipartite_layout(B, [1, 2, 3, 4])\n",
    "nx.draw_networkx(B, pos=layout)"
   ]
  },
  {
   "cell_type": "markdown",
   "id": "1dcb48dd",
   "metadata": {},
   "source": [
    "There are other layouts in networkx, also there are some useful parameters that you can find in documentation. Next, let us visualize a coappearance network of characters in The Matrix — a 1999 American science fiction action film written and directed by the Wachowskis. The dataset is taken from https://moviegalaxies.com/."
   ]
  },
  {
   "cell_type": "code",
   "execution_count": null,
   "id": "5affff92",
   "metadata": {},
   "outputs": [],
   "source": [
    "url = 'https://raw.githubusercontent.com/network-science-course/network-science-course/main/datasets/the_matrix_graph.gexf'\n",
    "open('the_matrix_graph.gexf', 'wb').write(requests.get(url).content);\n"
   ]
  },
  {
   "cell_type": "code",
   "execution_count": null,
   "id": "973e9968",
   "metadata": {},
   "outputs": [],
   "source": [
    "def get_matrix_graph():\n",
    "    G = nx.read_gexf('the_matrix_graph.gexf')\n",
    "    mapping = {}\n",
    "    for node in G.nodes:\n",
    "        mapping[node] = G.nodes[node]['label']\n",
    "    G = nx.relabel_nodes(G, mapping)\n",
    "    return G\n",
    "matrixG = get_matrix_graph()\n",
    "plt.figure(figsize=(13, 7))\n",
    "layout = nx.kamada_kawai_layout(matrixG)\n",
    "nx.draw_networkx(matrixG, pos=layout)"
   ]
  },
  {
   "cell_type": "markdown",
   "id": "3036b77c",
   "metadata": {},
   "source": [
    "Your task is to draw the matrix graph using the kamada kawai layout with nonlinear modification to obtain a denser layout away from the NEO node. Let us define a proximity coefficient using Gaussian kernel\n",
    "\n",
    "$$\\text{coef}(i) = \\exp\\left(-\\frac{\\text{distance}^2}{2\\sigma^2}\\right)$$\n",
    "\n",
    "where a _distance_ is the Euclidean distance from the node $i$ to the NEO node, $\\sigma$ is the constant. Then the nodes should be moved towards the NEO node such that\n",
    "\n",
    "$$\\text{distance} = \\text{coef}(i) \\times \\text{distance}$$\n",
    "\n",
    "The simplest way to do it is to center the layout so that the NEO node is in x=0 y=0 and then to multiply all node positions by the proximity coefficient.\n",
    "\n",
    "Write a function `dense_neo_layout` that takes a layout, sigma and returns a new (dense) layout.\n",
    "\n",
    "_Hint: use `np.linalg.norm` to calculate Euclidean norm._"
   ]
  },
  {
   "cell_type": "code",
   "execution_count": null,
   "id": "08daada1",
   "metadata": {
    "deletable": false,
    "nbgrader": {
     "cell_type": "code",
     "checksum": "64eeeda97382494873dc80b9ad016c87",
     "grade": false,
     "grade_id": "cell-6dc95d64261dffa6",
     "locked": false,
     "schema_version": 3,
     "solution": true,
     "task": false
    }
   },
   "outputs": [],
   "source": [
    "def dense_neo_layout(layout, sigma):\n",
    "    # YOUR CODE HERE\n",
    "    raise NotImplementedError()"
   ]
  },
  {
   "cell_type": "code",
   "execution_count": null,
   "id": "bf3fc859",
   "metadata": {
    "deletable": false,
    "editable": false,
    "nbgrader": {
     "cell_type": "code",
     "checksum": "2998cf39574f45be0cebbc37c98d6782",
     "grade": true,
     "grade_id": "cell-fea67b2cc10bdbd6",
     "locked": true,
     "points": 2.0,
     "schema_version": 3,
     "solution": false,
     "task": false
    }
   },
   "outputs": [],
   "source": [
    "layout = nx.kamada_kawai_layout(matrixG)\n",
    "layout = dense_neo_layout(layout, sigma=1.5)\n",
    "assert type(layout) == dict\n",
    "assert np.all(layout['NEO'] == [0, 0])\n",
    "assert np.all(layout['REX'].round(2) == [-0.67,  0.58])\n",
    "assert adler32(str(layout['AGENT BROWN'].round(2)[0]).encode()) == 32309448"
   ]
  },
  {
   "cell_type": "code",
   "execution_count": null,
   "id": "a54c6ba7",
   "metadata": {},
   "outputs": [],
   "source": [
    "plt.figure(figsize=(13, 7))\n",
    "nx.draw_networkx(matrixG, layout)"
   ]
  },
  {
   "cell_type": "markdown",
   "id": "8a71a19c",
   "metadata": {},
   "source": [
    "### Task 6. Nodes visualization (2 points)"
   ]
  },
  {
   "cell_type": "markdown",
   "id": "fc13a275",
   "metadata": {},
   "source": [
    "We can set a node size using `draw_networkx` with a parameter `node_size`. It should be a list of values ordered by `G.nodes`. For example, consider a simple path graph."
   ]
  },
  {
   "cell_type": "code",
   "execution_count": null,
   "id": "f2ab4c44",
   "metadata": {},
   "outputs": [],
   "source": [
    "G = nx.path_graph(3)\n",
    "G.nodes"
   ]
  },
  {
   "cell_type": "markdown",
   "id": "99d5de5c",
   "metadata": {},
   "source": [
    "Let us set a size 200 for the node 0, 300 for 1, 400 for 2."
   ]
  },
  {
   "cell_type": "code",
   "execution_count": null,
   "id": "7f350cc2",
   "metadata": {},
   "outputs": [],
   "source": [
    "layout = nx.kamada_kawai_layout(G)\n",
    "nx.draw_networkx(G, pos=layout, node_size=[200, 300, 400])"
   ]
  },
  {
   "cell_type": "markdown",
   "id": "00ba6c57",
   "metadata": {},
   "source": [
    "To color nodes, we can use `node_color`. It should be a list of colors:\n",
    "* a tuple of float RGB 0-1 values: (red, green, blue)\n",
    "* a tuple of float RGBA 0-1 values: (red, green, blue, alpha)\n",
    "* a string — color name"
   ]
  },
  {
   "cell_type": "code",
   "execution_count": null,
   "id": "85cee6a7",
   "metadata": {},
   "outputs": [],
   "source": [
    "nx.draw_networkx(\n",
    "    G,\n",
    "    pos=layout,\n",
    "    node_color=[(0.4, 0.8, 0, 0.6), (0.7, 0.4, 1, 0.6), (1, 0, 0.5, 0.6)])"
   ]
  },
  {
   "cell_type": "code",
   "execution_count": null,
   "id": "d3f79af2",
   "metadata": {},
   "outputs": [],
   "source": [
    "nx.draw_networkx(\n",
    "    G,\n",
    "    pos=layout,\n",
    "    node_color=['green', 'cyan', 'pink'])"
   ]
  },
  {
   "cell_type": "markdown",
   "id": "6d749dca",
   "metadata": {},
   "source": [
    "Also we can use a colors from matplotlib colormaps. Discrete:"
   ]
  },
  {
   "cell_type": "code",
   "execution_count": null,
   "id": "796543bd",
   "metadata": {},
   "outputs": [],
   "source": [
    "colors = plt.cm.Set1.colors\n",
    "nx.draw_networkx(\n",
    "    G,\n",
    "    pos=layout,\n",
    "    node_color=[colors[0], colors[1], colors[2]])"
   ]
  },
  {
   "cell_type": "markdown",
   "id": "bc6ec287",
   "metadata": {},
   "source": [
    "Or continuous:"
   ]
  },
  {
   "cell_type": "code",
   "execution_count": null,
   "id": "5845b089",
   "metadata": {},
   "outputs": [],
   "source": [
    "rainbow = plt.cm.rainbow\n",
    "nx.draw_networkx(\n",
    "    G,\n",
    "    pos=layout,\n",
    "    node_color=[rainbow(0.2), rainbow(0.8), rainbow(0.9)])"
   ]
  },
  {
   "cell_type": "markdown",
   "id": "da0d6d1c",
   "metadata": {},
   "source": [
    "Another option of coloring nodes is to pass a list of single values by the `node_color` and colormap by the `cmap` parameter. In this case, the lowest value will assigned to the first color in colormap and vise versa."
   ]
  },
  {
   "cell_type": "code",
   "execution_count": null,
   "id": "dbed3123",
   "metadata": {},
   "outputs": [],
   "source": [
    "nx.draw_networkx(\n",
    "    G,\n",
    "    pos=layout,\n",
    "    cmap = plt.cm.hot,\n",
    "    node_color=[1, 2, 3])"
   ]
  },
  {
   "cell_type": "markdown",
   "id": "60c6f7ec",
   "metadata": {},
   "source": [
    "We can forcibly set a color range using `vmin` and `vmax`."
   ]
  },
  {
   "cell_type": "code",
   "execution_count": null,
   "id": "d48e3f42",
   "metadata": {},
   "outputs": [],
   "source": [
    "nx.draw_networkx(\n",
    "    G,\n",
    "    pos=layout,\n",
    "    cmap = plt.cm.hot,\n",
    "    node_color=[1, 2, 3],\n",
    "    vmin=0, vmax=4)"
   ]
  },
  {
   "cell_type": "markdown",
   "id": "df9cae7d",
   "metadata": {},
   "source": [
    "We can border nodes using `edgecolors` and `linewidths` parameters."
   ]
  },
  {
   "cell_type": "code",
   "execution_count": null,
   "id": "134f164f",
   "metadata": {},
   "outputs": [],
   "source": [
    "nx.draw_networkx(\n",
    "    G=G, \n",
    "    pos=layout,\n",
    "    cmap = plt.cm.hot, \n",
    "    node_color=[1, 2, 3],\n",
    "    vmin=0, vmax=4, \n",
    "    edgecolors='black', \n",
    "    linewidths=1)"
   ]
  },
  {
   "cell_type": "markdown",
   "id": "9b4f5ff1",
   "metadata": {},
   "source": [
    "Your task is to adjust a size and color of nodes in the matrix graph, size and color are taken from a node degree and node attribute `G.nodes[node]`."
   ]
  },
  {
   "cell_type": "code",
   "execution_count": null,
   "id": "e9c8abce",
   "metadata": {},
   "outputs": [],
   "source": [
    "matrixG.nodes['NEO']"
   ]
  },
  {
   "cell_type": "markdown",
   "id": "6094fdfc",
   "metadata": {},
   "source": [
    "Write a function `drawing_nodes_params` that takes a graph and returns a dictionary with parameters for `nx.draw_networkx` of the form `{'G': graph, 'node_color': color, ...}`. Parameters should contain a graph, kamada kawai layout, node colors from `viz.color` attribute. The colors should be converted from RGB range 0-255 to RGB range 0-1. The node size is a node degree `G.degree[node]` multiplied by 100."
   ]
  },
  {
   "cell_type": "code",
   "execution_count": null,
   "id": "8f083216",
   "metadata": {
    "deletable": false,
    "nbgrader": {
     "cell_type": "code",
     "checksum": "d3bfe7db02b468e269d4baa55f8ddee0",
     "grade": false,
     "grade_id": "cell-23d41af4fdb48d3c",
     "locked": false,
     "schema_version": 3,
     "solution": true,
     "task": false
    }
   },
   "outputs": [],
   "source": [
    "def drawing_nodes_params(graph):\n",
    "    # YOUR CODE HERE\n",
    "    raise NotImplementedError()"
   ]
  },
  {
   "cell_type": "code",
   "execution_count": null,
   "id": "609da257",
   "metadata": {
    "deletable": false,
    "editable": false,
    "nbgrader": {
     "cell_type": "code",
     "checksum": "1935701167898c264cb3847e83ba5553",
     "grade": true,
     "grade_id": "cell-ce378d189964cb4f",
     "locked": true,
     "points": 1.0,
     "schema_version": 3,
     "solution": false,
     "task": false
    }
   },
   "outputs": [],
   "source": [
    "matrixG = get_matrix_graph()\n",
    "params = drawing_nodes_params(matrixG)\n",
    "assert type(params) == dict\n",
    "keys = ['G', 'pos', 'node_color', 'node_size']\n",
    "assert len(set(params.keys()).intersection(keys)) == 4\n",
    "assert np.all(params['node_color'][10].round(2) == [0.37, 0.79, 0.75])\n",
    "assert adler32(str(params['node_color'][0][1].round(2)).encode()) == 19071123\n",
    "assert params['node_size'][0] == 200\n",
    "assert params['node_size'][1] == 600\n",
    "assert nx.to_numpy_array(params['G']).sum() == 326.0"
   ]
  },
  {
   "cell_type": "code",
   "execution_count": null,
   "id": "d1697921",
   "metadata": {},
   "outputs": [],
   "source": [
    "plt.figure(figsize=(13, 7))\n",
    "nx.draw_networkx(**params )"
   ]
  },
  {
   "cell_type": "markdown",
   "id": "ef4617ec",
   "metadata": {},
   "source": [
    "Sometimes, it will be useful to draw nodes in nonlinear scale. If we want to make node sizes more comparable, we can use polynomial or exponential scale. On the other hand, we can use logarithmic scale to make sizes more similar.\n",
    "\n",
    "Write a function `drawing_nodes_polyparams` that returns the same dictionary as the `drawing_nodes_params` function, but the node size is a sum of node degree in a power 3 and 10.\n",
    "\n",
    "$$\\text{size} = \\text{degree}^3 + 10$$"
   ]
  },
  {
   "cell_type": "code",
   "execution_count": null,
   "id": "87c5cec3",
   "metadata": {
    "deletable": false,
    "nbgrader": {
     "cell_type": "code",
     "checksum": "f89778806a9cf3b9b1d8901f98c189e8",
     "grade": false,
     "grade_id": "cell-7056cc638b9de958",
     "locked": false,
     "schema_version": 3,
     "solution": true,
     "task": false
    }
   },
   "outputs": [],
   "source": [
    "def drawing_nodes_polyparams(graph):\n",
    "    # YOUR CODE HERE\n",
    "    raise NotImplementedError()"
   ]
  },
  {
   "cell_type": "code",
   "execution_count": null,
   "id": "4c5cfe79",
   "metadata": {
    "deletable": false,
    "editable": false,
    "nbgrader": {
     "cell_type": "code",
     "checksum": "6d9ddde574b6f699dbea3cad7c139f13",
     "grade": true,
     "grade_id": "cell-6b4ea9133d917597",
     "locked": true,
     "points": 1.0,
     "schema_version": 3,
     "solution": false,
     "task": false
    }
   },
   "outputs": [],
   "source": [
    "matrixG = get_matrix_graph()\n",
    "params = drawing_nodes_polyparams(matrixG)\n",
    "assert type(params) == dict\n",
    "keys = ['G', 'pos', 'node_color', 'node_size']\n",
    "assert len(set(params.keys()).intersection(keys)) == 4\n",
    "assert np.all(params['node_color'][10].round(2) == [0.37, 0.79, 0.75])\n",
    "assert adler32(str(params['node_color'][0][1].round(2)).encode()) == 19071123\n",
    "assert params['node_size'][0] == 18\n",
    "assert params['node_size'][1] == 226\n",
    "assert nx.to_numpy_array(params['G']).sum() == 326.0"
   ]
  },
  {
   "cell_type": "code",
   "execution_count": null,
   "id": "9c117791",
   "metadata": {},
   "outputs": [],
   "source": [
    "plt.figure(figsize=(13, 7))\n",
    "nx.draw_networkx(**params )"
   ]
  },
  {
   "cell_type": "markdown",
   "id": "0680e23e",
   "metadata": {},
   "source": [
    "### Task 7. Weighted graphs (2 points)"
   ]
  },
  {
   "cell_type": "markdown",
   "id": "df9d3144",
   "metadata": {},
   "source": [
    "We can set an edge width using `draw_networkx` with a parameter `width`. It should be a list of values sorted by G.edges. For example, consider a simple path graph."
   ]
  },
  {
   "cell_type": "code",
   "execution_count": null,
   "id": "26a35636",
   "metadata": {},
   "outputs": [],
   "source": [
    "G = nx.path_graph(4)\n",
    "G.edges"
   ]
  },
  {
   "cell_type": "markdown",
   "id": "4d6f7455",
   "metadata": {},
   "source": [
    "Let us set a width 1 for the edge 0-1, 5 for 1-2, 10 for 2-3."
   ]
  },
  {
   "cell_type": "code",
   "execution_count": null,
   "id": "c55b3173",
   "metadata": {},
   "outputs": [],
   "source": [
    "layout = nx.kamada_kawai_layout(G)\n",
    "nx.draw_networkx(G, pos=layout, width=[1, 5, 10])"
   ]
  },
  {
   "cell_type": "markdown",
   "id": "fb6b9210",
   "metadata": {},
   "source": [
    "If we create a graph by a weighted ajacency matrix, weights will be stored in an edge attribute `weight`."
   ]
  },
  {
   "cell_type": "code",
   "execution_count": null,
   "id": "80effd2f",
   "metadata": {},
   "outputs": [],
   "source": [
    "W = np.array([[0, 1, 0, 0], \n",
    "              [1, 0, 5, 0], \n",
    "              [0, 5, 0, 10], \n",
    "              [0, 0, 10, 0]])\n",
    "G = nx.from_numpy_array(W)"
   ]
  },
  {
   "cell_type": "markdown",
   "id": "f092162a",
   "metadata": {},
   "source": [
    "In this case, we can get a value using `G.edges[edge]` view"
   ]
  },
  {
   "cell_type": "code",
   "execution_count": null,
   "id": "8d955d15",
   "metadata": {},
   "outputs": [],
   "source": [
    "G.edges[(0, 1)]"
   ]
  },
  {
   "cell_type": "markdown",
   "id": "ad2b9604",
   "metadata": {},
   "source": [
    "Or we can get all values using `nx.get_edge_attributes`"
   ]
  },
  {
   "cell_type": "code",
   "execution_count": null,
   "id": "b6f20e27",
   "metadata": {},
   "outputs": [],
   "source": [
    "nx.get_edge_attributes(G, 'weight')"
   ]
  },
  {
   "cell_type": "code",
   "execution_count": null,
   "id": "4b3283ae",
   "metadata": {},
   "outputs": [],
   "source": [
    "weights = list(nx.get_edge_attributes(G, 'weight').values())\n",
    "nx.draw_networkx(G, pos=layout, width=weights)"
   ]
  },
  {
   "cell_type": "markdown",
   "id": "2683b6e5",
   "metadata": {},
   "source": [
    "If we want to apply specific color or style to some edges, it is possible by `edge_color` and `style` parameters. For example, we can draw an edge with a weight 10 as a red dotted line."
   ]
  },
  {
   "cell_type": "code",
   "execution_count": null,
   "id": "0d4d0b5d",
   "metadata": {},
   "outputs": [],
   "source": [
    "nx.draw_networkx(\n",
    "    G, pos=layout, \n",
    "    width=[1, 5, 10], \n",
    "    edge_color=['black', 'black', 'red'], \n",
    "    style=['solid', 'solid', 'dotted'])"
   ]
  },
  {
   "cell_type": "markdown",
   "id": "44b3215d",
   "metadata": {},
   "source": [
    "Your task is to draw the matrix graph where an edge width is 0 if a weight is 1, otherwise it is a weight value itself. An edge color is `red` if weight is at least 5 and `black` otherwise."
   ]
  },
  {
   "cell_type": "code",
   "execution_count": null,
   "id": "5b96f111",
   "metadata": {
    "deletable": false,
    "nbgrader": {
     "cell_type": "code",
     "checksum": "c688adf77bad3a3ac7f1ff78019959c2",
     "grade": false,
     "grade_id": "cell-2497d776bb6eb00c",
     "locked": false,
     "schema_version": 3,
     "solution": true,
     "task": false
    }
   },
   "outputs": [],
   "source": [
    "def drawing_edges_params(graph):\n",
    "    # YOUR CODE HERE\n",
    "    raise NotImplementedError()"
   ]
  },
  {
   "cell_type": "code",
   "execution_count": null,
   "id": "3c133219",
   "metadata": {
    "deletable": false,
    "editable": false,
    "nbgrader": {
     "cell_type": "code",
     "checksum": "acb0b1c24acb91289b72d036aefa3163",
     "grade": true,
     "grade_id": "cell-b220499d1d3b12af",
     "locked": true,
     "points": 2.0,
     "schema_version": 3,
     "solution": false,
     "task": false
    }
   },
   "outputs": [],
   "source": [
    "matrixG = get_matrix_graph()\n",
    "params = drawing_edges_params(matrixG)\n",
    "assert type(params) == dict\n",
    "keys = ['G', 'pos', 'edge_color', 'width']\n",
    "assert len(set(params.keys()).intersection(keys)) == 4\n",
    "assert nx.to_numpy_array(params['G']).sum() == 326.0\n",
    "params['width'][0] == 2.0\n",
    "assert np.array(params['width']) @ params['width'] == 508\n",
    "assert adler32(str(params['edge_color']).encode()) == 646700613"
   ]
  },
  {
   "cell_type": "code",
   "execution_count": null,
   "id": "56622f94",
   "metadata": {},
   "outputs": [],
   "source": [
    "plt.figure(figsize=(13, 7))\n",
    "nx.draw_networkx(**params)"
   ]
  },
  {
   "cell_type": "markdown",
   "id": "c0a03772",
   "metadata": {},
   "source": [
    "### Task 8. Labels visualization (2 points)"
   ]
  },
  {
   "cell_type": "markdown",
   "id": "e30d2964",
   "metadata": {},
   "source": [
    "In this task, we will modify some label parameters: font size, position, visibility. In networkx, we cannot pass a list of font sizes to `draw_networkx`, so we will use drawing by layers using other methods:\n",
    "* `draw_networkx_nodes` — draw the nodes only\n",
    "* `draw_networkx_edges` — draw the edges only\n",
    "* `draw_networkx_labels` — draw the node labels only\n",
    "* `draw_networkx_edge_labels` — draw the edge labels only\n",
    "\n",
    "Also we can separately adjust an `alpha` value for nodes, edges, labels. Here is a simple example, let us draw a path graph with 4 nodes where the node 0 is labeled as \"a\", 3 is \"b\", the edge 1-2 is labeled as \"edge\", and edges are transparent with `alpha=0.2`."
   ]
  },
  {
   "cell_type": "code",
   "execution_count": null,
   "id": "032eb74f",
   "metadata": {},
   "outputs": [],
   "source": [
    "G = nx.path_graph(4)\n",
    "layout = nx.kamada_kawai_layout(G)\n",
    "nx.draw_networkx_nodes(G, pos=layout)\n",
    "nx.draw_networkx_edges(G, pos=layout, alpha=0.2)\n",
    "nx.draw_networkx_labels(G, pos=layout, labels={0: 'a', 3: 'b'})\n",
    "nx.draw_networkx_edge_labels(G, pos=layout, edge_labels={(1, 2): 'edge'})\n",
    "plt.show()"
   ]
  },
  {
   "cell_type": "markdown",
   "id": "75a41bdc",
   "metadata": {},
   "source": [
    "If we want to adjust a font size, it is possible by repeated drawing labels with different `font_size` values. For example:"
   ]
  },
  {
   "cell_type": "code",
   "execution_count": null,
   "id": "18f94c4c",
   "metadata": {},
   "outputs": [],
   "source": [
    "G = nx.path_graph(4)\n",
    "layout = nx.kamada_kawai_layout(G)\n",
    "nx.draw_networkx_nodes(G, pos=layout)\n",
    "nx.draw_networkx_edges(G, pos=layout, alpha=0.2)\n",
    "nx.draw_networkx_labels(G, pos=layout, labels={3: 'b'}, font_size=10)\n",
    "nx.draw_networkx_labels(G, pos=layout, labels={0: 'a'}, font_size=20)\n",
    "nx.draw_networkx_edge_labels(G, pos=layout, edge_labels={(1, 2): 'edge'})\n",
    "plt.show()"
   ]
  },
  {
   "cell_type": "markdown",
   "id": "0ba3ef6a",
   "metadata": {},
   "source": [
    "Your task is to draw the matrix graph with settings: \n",
    "* labels are invisible if a node degree less than 6\n",
    "* a font size is a node degree\n",
    "* all labels are slided down so that $y = y - 0.025 \\sqrt{\\text{degree}}$\n",
    "\n",
    "Write a function `labels_list_parameters` that takes a graph, layout and returns a list of parameters for repeated drawing labels using `nx.draw_networkx_labels`. Each element of the list is a dictionary that can be passed to `nx.draw_networkx_labels`. The first dictionary is for the node degree 6, the second is for 7 and so on."
   ]
  },
  {
   "cell_type": "code",
   "execution_count": null,
   "id": "b16ef989",
   "metadata": {
    "deletable": false,
    "nbgrader": {
     "cell_type": "code",
     "checksum": "d7e642dc51990cd6e94cd184a5fa9bb7",
     "grade": false,
     "grade_id": "cell-4b224f9002838252",
     "locked": false,
     "schema_version": 3,
     "solution": true,
     "task": false
    }
   },
   "outputs": [],
   "source": [
    "def labels_list_parameters(graph, layout):\n",
    "    # YOUR CODE HERE\n",
    "    raise NotImplementedError()"
   ]
  },
  {
   "cell_type": "code",
   "execution_count": null,
   "id": "f9c65ead",
   "metadata": {
    "deletable": false,
    "editable": false,
    "nbgrader": {
     "cell_type": "code",
     "checksum": "62ecbdab14ebb839ad9f8553c3d44ee4",
     "grade": true,
     "grade_id": "cell-93a09c03f82c3cfb",
     "locked": true,
     "points": 2.0,
     "schema_version": 3,
     "solution": false,
     "task": false
    }
   },
   "outputs": [],
   "source": [
    "matrixG = get_matrix_graph()\n",
    "layout = nx.kamada_kawai_layout(matrixG)\n",
    "list_params = labels_list_parameters(matrixG, layout)\n",
    "assert type(list_params) == list\n",
    "assert type(list_params[0]) == dict\n",
    "assert len(list_params) == 8\n",
    "assert nx.to_numpy_array(list_params[0]['G']).sum() == 326\n",
    "assert list_params[0]['font_size'] == 6\n",
    "assert adler32(str(np.array(list_params[7]['font_size'])).encode()) == 10027110\n",
    "assert np.all(list_params[0]['pos']['MAN'].round(2) == [-0.16, 0.05])\n",
    "assert adler32(\n",
    "    str(list_params[0]['pos']['AGENT JONES'].round(2)[1]).encode()) == 46465263\n",
    "assert adler32(\n",
    "    str(list_params[7]['pos']['NEO'].round(2)[1]).encode()) == 46792946\n",
    "assert list_params[1]['labels']['AGENT SMITH'] == 'AGENT SMITH'\n",
    "assert list_params[1]['labels'].get('AGENT JONES') is None \\\n",
    "    or list_params[1]['labels']['AGENT JONES'] == ''\n",
    "assert len([val for val in  list_params[2]['labels'].values() if val != '']) == 3"
   ]
  },
  {
   "cell_type": "code",
   "execution_count": null,
   "id": "053ad1f8",
   "metadata": {},
   "outputs": [],
   "source": [
    "plt.figure(figsize=(13, 7))\n",
    "layout = nx.kamada_kawai_layout(matrixG)\n",
    "nx.draw_networkx_nodes(matrixG, pos=layout)\n",
    "nx.draw_networkx_edges(matrixG, pos=layout, alpha=0.2)\n",
    "for params in labels_list_parameters(matrixG, layout):\n",
    "    nx.draw_networkx_labels(**params)\n",
    "plt.show()"
   ]
  },
  {
   "cell_type": "markdown",
   "id": "bec0f397",
   "metadata": {},
   "source": [
    "### Task 9. Visible area (2 points)"
   ]
  },
  {
   "cell_type": "markdown",
   "id": "d0653f24",
   "metadata": {},
   "source": [
    "Drawing a large graph, it may be useful to zoom in an area near some nodes by `plt.xlim(x_min, x_max)` and `plt.ylim(y_min, y_max)` where `x_max` is a right border, `y_max` is a top border. "
   ]
  },
  {
   "cell_type": "code",
   "execution_count": null,
   "id": "398c07b1",
   "metadata": {},
   "outputs": [],
   "source": [
    "G = nx.path_graph(4)\n",
    "layout = nx.kamada_kawai_layout(G)\n",
    "nx.draw_networkx(G, pos=layout)\n",
    "plt.xlim(-0.5, 0.5)\n",
    "plt.ylim(-0.5, 0.5)\n",
    "plt.show()"
   ]
  },
  {
   "cell_type": "markdown",
   "id": "988addd0",
   "metadata": {},
   "source": [
    "Let us adjust a visible area and combine previous drawing techniques to get a more meaningful figure:\n",
    "* take a node color from the `viz.color` node attribute converting 0-255 range to 0-1 range\n",
    "* set a node size as $5\\times\\text{degree}^2$\n",
    "* take an edge width from the `weight` edge attribute\n",
    "* set an edge alpha is 0.2\n",
    "* labels are invisible if a node degree less than 6\n",
    "* set a font size as $3 \\times \\text{degree}^{2/3}$\n",
    "* set a visible area such that a lower border is NEO, higher is AGENT SMITH, left is MORPHEUS, right is TANK.\n",
    "\n",
    "Write a function `get_all_params` that takes a graph and layout and returns a dictionary with keys:\n",
    "* `nodes_params` — dict, parameters for `nx.draw_networkx_nodes`\n",
    "* `edges_params` — dict, parameters for `nx.draw_networkx_edges`\n",
    "* `labels_param_list` — list of dict, parameters for `nx.draw_networkx_edges`, for degrees 6, 7 and so on\n",
    "* `area` — list of float vlues: a left, right, lower, higher borders of the visible area"
   ]
  },
  {
   "cell_type": "code",
   "execution_count": null,
   "id": "c843ba4e",
   "metadata": {
    "deletable": false,
    "nbgrader": {
     "cell_type": "code",
     "checksum": "44dda913e3a7cccfe3f939514195f959",
     "grade": false,
     "grade_id": "cell-563f657325a0fe0e",
     "locked": false,
     "schema_version": 3,
     "solution": true,
     "task": false
    }
   },
   "outputs": [],
   "source": [
    "def get_all_params(graph, layout):\n",
    "    # YOUR CODE HERE\n",
    "    raise NotImplementedError()"
   ]
  },
  {
   "cell_type": "code",
   "execution_count": null,
   "id": "97339b5a",
   "metadata": {
    "deletable": false,
    "editable": false,
    "nbgrader": {
     "cell_type": "code",
     "checksum": "683e2e146aae7ffe3415679f0574df18",
     "grade": true,
     "grade_id": "cell-3e36285c3c4a583a",
     "locked": true,
     "points": 2.0,
     "schema_version": 3,
     "solution": false,
     "task": false
    }
   },
   "outputs": [],
   "source": [
    "matrixG = get_matrix_graph()\n",
    "layout = nx.kamada_kawai_layout(matrixG)\n",
    "all_params = get_all_params(matrixG, layout)\n",
    "assert type(all_params) == dict\n",
    "keys = ['nodes_params', 'edges_params', 'labels_param_list', 'area']\n",
    "assert len(set(all_params.keys()).intersection(keys)) == 4\n",
    "assert nx.to_numpy_array(all_params['nodes_params']['G']).sum() == 326\n",
    "assert np.all(all_params['nodes_params']['pos']['NEO'].round(2) == [0., -0.3])\n",
    "assert np.all(all_params['nodes_params']['node_color'][4].round(2) == [1., 0.86, 0.4])\n",
    "assert all_params['nodes_params']['node_size'][10] == 20\n",
    "assert nx.to_numpy_array(all_params['edges_params']['G']).sum() == 326\n",
    "assert np.all(all_params['edges_params']['pos']['NEO'].round(2) == [0. , -0.3])\n",
    "assert all_params['edges_params']['alpha'] == 0.2\n",
    "assert all_params['edges_params']['width'][20] == 2\n",
    "assert type(all_params['labels_param_list']) == list\n",
    "assert nx.to_numpy_array(all_params['labels_param_list'][0]['G']).sum() == 326\n",
    "assert np.all(all_params['labels_param_list'][5]['pos']['NEO'].round(2) == [0. , -0.3])\n",
    "assert all_params['labels_param_list'][5]['labels'].get('WOMAN') is None \\\n",
    "    or all_params['labels_param_list'][5]['labels']['WOMAN'] == ''\n",
    "assert round(all_params['labels_param_list'][2]['font_size'], 4) == 12\n",
    "assert all_params['area'][0] < all_params['area'][1]\n",
    "assert all_params['area'][2] < all_params['area'][3]"
   ]
  },
  {
   "cell_type": "code",
   "execution_count": null,
   "id": "ca2aa92d",
   "metadata": {},
   "outputs": [],
   "source": [
    "plt.figure(figsize=(10, 7))\n",
    "nx.draw_networkx_nodes(**all_params['nodes_params'])\n",
    "nx.draw_networkx_edges(**all_params['edges_params'])\n",
    "for params in all_params['labels_param_list']:\n",
    "    nx.draw_networkx_labels(**params)\n",
    "plt.xlim(all_params['area'][0] - 0.15, all_params['area'][1] + 0.1)\n",
    "plt.ylim(all_params['area'][2] - 0.10, all_params['area'][3] + 0.1)\n",
    "plt.show()"
   ]
  },
  {
   "cell_type": "code",
   "execution_count": null,
   "id": "d8085310",
   "metadata": {},
   "outputs": [],
   "source": []
  }
 ],
 "metadata": {
  "interpreter": {
   "hash": "dca0ade3e726a953b501b15e8e990130d2b7799f14cfd9f4271676035ebe5511"
  },
  "kernelspec": {
   "display_name": "Python 3",
   "language": "python",
   "name": "python3"
  },
  "language_info": {
   "codemirror_mode": {
    "name": "ipython",
    "version": 3
   },
   "file_extension": ".py",
   "mimetype": "text/x-python",
   "name": "python",
   "nbconvert_exporter": "python",
   "pygments_lexer": "ipython3",
   "version": "3.7.4"
  }
 },
 "nbformat": 4,
 "nbformat_minor": 5
}
