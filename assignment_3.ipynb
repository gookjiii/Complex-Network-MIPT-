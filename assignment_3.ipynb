{
 "cells": [
  {
   "cell_type": "markdown",
   "id": "a7fbd695",
   "metadata": {},
   "source": [
    "# Assignment — Random graphs"
   ]
  },
  {
   "cell_type": "code",
   "execution_count": null,
   "id": "d1915d81",
   "metadata": {},
   "outputs": [],
   "source": [
    "import matplotlib.pyplot as plt\n",
    "import networkx as nx\n",
    "import requests\n",
    "from tqdm.notebook import tqdm\n",
    "from zlib import adler32\n",
    "import scipy.stats as st\n",
    "import numpy as np"
   ]
  },
  {
   "cell_type": "markdown",
   "id": "b91e665a",
   "metadata": {},
   "source": [
    "### Task 1. Erdos-Renyi model (0 points)"
   ]
  },
  {
   "cell_type": "markdown",
   "id": "cf34c307",
   "metadata": {},
   "source": [
    "Implement Erdos Renyi model (random graph) — each pair of $n$ nodes are connected with some fixed probability $p$."
   ]
  },
  {
   "cell_type": "code",
   "execution_count": null,
   "id": "700e9608",
   "metadata": {
    "deletable": false,
    "editable": false,
    "nbgrader": {
     "cell_type": "code",
     "checksum": "e67a19e0a6ae55dd020c9103e8cc795d",
     "grade": false,
     "grade_id": "cell-4d93a39b3f69dd92",
     "locked": true,
     "schema_version": 3,
     "solution": false,
     "task": false
    }
   },
   "outputs": [],
   "source": [
    "def erdos_renyi_graph(n, p):\n",
    "    G = nx.Graph()\n",
    "    nodes = np.arange(n)\n",
    "    G.add_nodes_from(nodes)\n",
    "    G.add_edges_from(random_edges(nodes, p))\n",
    "    return G"
   ]
  },
  {
   "cell_type": "markdown",
   "id": "d951b72d",
   "metadata": {},
   "source": [
    "Write a function `random_edges` with parameters: `nodes` — np.array of nodes, for example [1, 2, 3, 4, ...] and `p` — probability of connection. The function returns np.array with tuples of the form [(1, 2), (2, 4), ...], where 1-2, 2-4 are edges that should be added in the graph.\n",
    "\n",
    "*Hint: To speed up the generation, look at ALG.1 in the article [Efficient generation of large random networks](http://vlado.fmf.uni-lj.si/pub/networks/doc/ms/rndgen.pdf).*"
   ]
  },
  {
   "cell_type": "code",
   "execution_count": null,
   "id": "4bccaf6a",
   "metadata": {
    "deletable": false,
    "nbgrader": {
     "cell_type": "code",
     "checksum": "9299bda1c1e8cf204c9e0671a10db9d4",
     "grade": false,
     "grade_id": "cell-e2b1f0ebfa7b2fc3",
     "locked": false,
     "schema_version": 3,
     "solution": true,
     "task": false
    }
   },
   "outputs": [],
   "source": [
    "def random_edges(nodes, p):\n",
    "    # YOUR CODE HERE\n",
    "    raise NotImplementedError()"
   ]
  },
  {
   "cell_type": "code",
   "execution_count": null,
   "id": "803ab71d",
   "metadata": {
    "deletable": false,
    "editable": false,
    "nbgrader": {
     "cell_type": "code",
     "checksum": "a3a79640251915ac203803ffa550fdfe",
     "grade": true,
     "grade_id": "cell-d57f0727bf4b7394",
     "locked": true,
     "points": 0.0,
     "schema_version": 3,
     "solution": false,
     "task": false
    }
   },
   "outputs": [],
   "source": [
    "'''Check the Erdos-Renyi random graph generation'''\n",
    "assert len(erdos_renyi_graph(100, 0.1).edges) > 0\n",
    "n = 100\n",
    "p = 0.4\n",
    "n_edges = n * (n-1) / 2\n",
    "q = 1 - p\n",
    "sigma = np.sqrt((p * q) / n_edges)\n",
    "assert  p - 3*sigma < random_edges(np.arange(n), p).shape[0] / n_edges < p + 3*sigma\n",
    "n = 1000\n",
    "p = 0.01\n",
    "n_edges = n * (n-1) / 2\n",
    "q = 1 - p\n",
    "sigma = np.sqrt((p * q) / n_edges)\n",
    "assert  p - 3*sigma < random_edges(np.arange(n), p).shape[0] / n_edges < p + 3*sigma\n",
    "n = 300\n",
    "p = 0.9\n",
    "n_edges = n * (n-1) / 2\n",
    "q = 1 - p\n",
    "sigma = np.sqrt((p * q) / n_edges)\n",
    "assert  p - 3*sigma < random_edges(np.arange(n), p).shape[0] / n_edges < p + 3*sigma"
   ]
  },
  {
   "cell_type": "markdown",
   "id": "c7068084",
   "metadata": {},
   "source": [
    "Let us draw a couple of generated graphs"
   ]
  },
  {
   "cell_type": "code",
   "execution_count": null,
   "id": "1d4a4795",
   "metadata": {},
   "outputs": [],
   "source": [
    "n = 100\n",
    "cases = [('Subcritical regime: $p \\cdot n < 1$', n, 0.5/n), \n",
    "         ('Critical point: $p \\cdot n = 1$', n, 1/n), \n",
    "         ('Supercritacal regime: $p \\cdot n > 1$', n, 2/n), \n",
    "         ('Connected regime: $p \\cdot n > \\log(N)$', n, 6.5/n)]\n",
    "plt.figure(figsize=(12, 6 * 4))\n",
    "i = 1\n",
    "for regime, n, p in cases:\n",
    "    plt.subplot(4, 2, i)\n",
    "    G = erdos_renyi_graph(n, p)\n",
    "    nx.draw(\n",
    "        G, \n",
    "        with_labels=False, \n",
    "        node_size=20, \n",
    "        width=0.5, \n",
    "        node_color='tab:orange')\n",
    "    plt.title(regime)\n",
    "    i += 1\n",
    "    plt.subplot(4, 2, i)\n",
    "    degree_seq = [degree for (node, degree) in G.degree]\n",
    "    bins, freq = np.unique(degree_seq, return_counts=True)\n",
    "    plt.bar(bins, freq)\n",
    "    plt.xlim((-1, 14))\n",
    "    plt.title('Degree distribution')\n",
    "    i += 1"
   ]
  },
  {
   "cell_type": "markdown",
   "id": "de04fe06",
   "metadata": {},
   "source": [
    "### Task 2. Fitting parameters of degree distribution (0 points)"
   ]
  },
  {
   "cell_type": "markdown",
   "id": "fe7271c9",
   "metadata": {},
   "source": [
    "In the Erdos-Renyi model, we can estimate a degree distribution using the binomial distribution. The binomial distribution $B(n, p)$ converges to the Poisson $\\text{Pois}(\\lambda)$ when the number of samples $n$ tends to infinity with the fixed product $np = \\lambda$."
   ]
  },
  {
   "cell_type": "code",
   "execution_count": null,
   "id": "ef859ebc",
   "metadata": {},
   "outputs": [],
   "source": [
    "plt.figure(figsize=[14, 4])\n",
    "for i, [n, mean] in enumerate([[100, 50], [200, 50], [1000, 50]]):\n",
    "    plt.subplot(1, 3, i+1)\n",
    "    plt.plot(st.binom(n, mean / n).pmf(np.arange(100)), \n",
    "             label=\"Binomial\")\n",
    "    plt.plot(st.poisson(mean).pmf(np.arange(100)), \n",
    "             label=\"Poisson\")\n",
    "    plt.xlim(20, 80)\n",
    "    plt.ylim(0, 0.1)\n",
    "    plt.title('n={}, p={:.2f}, lambda={}'.format(n, mean / n, mean))\n",
    "plt.legend(loc='upper right');"
   ]
  },
  {
   "cell_type": "markdown",
   "id": "f4d88af0",
   "metadata": {},
   "source": [
    "In this task we will estimate properties of Binomial and Poisson distributions and compare in what cases it is better to use Binomial.\n",
    "\n",
    "Write a function `estimate_binomial` that takes a random graph and returns binomial parameters `n` and `p`."
   ]
  },
  {
   "cell_type": "code",
   "execution_count": null,
   "id": "d10666b4",
   "metadata": {
    "deletable": false,
    "nbgrader": {
     "cell_type": "code",
     "checksum": "286fbff1f265625df5d92a55433c6021",
     "grade": false,
     "grade_id": "cell-fd6342c245c850c4",
     "locked": false,
     "schema_version": 3,
     "solution": true,
     "task": false
    }
   },
   "outputs": [],
   "source": [
    "def estimate_binomial(G):\n",
    "    # YOUR CODE HERE\n",
    "    raise NotImplementedError()"
   ]
  },
  {
   "cell_type": "code",
   "execution_count": null,
   "id": "c2d9fc28",
   "metadata": {
    "deletable": false,
    "editable": false,
    "nbgrader": {
     "cell_type": "code",
     "checksum": "bfe53cf8f3efca314c3e983737a3f69b",
     "grade": true,
     "grade_id": "cell-85182880379dd313",
     "locked": true,
     "points": 0.0,
     "schema_version": 3,
     "solution": false,
     "task": false
    }
   },
   "outputs": [],
   "source": [
    "G = erdos_renyi_graph(100, 0.5)\n",
    "n, p = estimate_binomial(G)\n",
    "assert abs(p - 0.5) <= 0.05\n",
    "assert n == 100"
   ]
  },
  {
   "cell_type": "markdown",
   "id": "8f6eaec9",
   "metadata": {},
   "source": [
    "Write a function `estimate_poisson` that takes a random graph and returns the Poisson parameter $\\lambda$ (here denoted as `m`)."
   ]
  },
  {
   "cell_type": "code",
   "execution_count": null,
   "id": "1cdde389",
   "metadata": {
    "deletable": false,
    "nbgrader": {
     "cell_type": "code",
     "checksum": "bdcf6444e581e509d2072ae4b8be17ad",
     "grade": false,
     "grade_id": "cell-f3707ddb089d8ed3",
     "locked": false,
     "schema_version": 3,
     "solution": true,
     "task": false
    }
   },
   "outputs": [],
   "source": [
    "def estimate_poisson(G):\n",
    "    # YOUR CODE HERE\n",
    "    raise NotImplementedError()"
   ]
  },
  {
   "cell_type": "code",
   "execution_count": null,
   "id": "ecda13e0",
   "metadata": {
    "deletable": false,
    "editable": false,
    "nbgrader": {
     "cell_type": "code",
     "checksum": "ab6f3092fcedb765579156ee99aa7734",
     "grade": true,
     "grade_id": "cell-f3b40f87622a45fd",
     "locked": true,
     "points": 0.0,
     "schema_version": 3,
     "solution": false,
     "task": false
    }
   },
   "outputs": [],
   "source": [
    "G = erdos_renyi_graph(1000, 0.05)\n",
    "m = estimate_poisson(G)\n",
    "assert abs(m - 50) <= 1"
   ]
  },
  {
   "cell_type": "code",
   "execution_count": null,
   "id": "fbe34e08",
   "metadata": {},
   "outputs": [],
   "source": [
    "plt.figure(figsize=[12, 8])\n",
    "for i, [n, p] in enumerate([[100, 0.5], [200, 0.25], [1000, 0.05], [10000, 0.005]]):\n",
    "    plt.subplot(2, 2, i+1)\n",
    "    G = erdos_renyi_graph(n, p)\n",
    "    degree_density = np.array(nx.degree_histogram(G)) / n\n",
    "    idx = np.argwhere(degree_density > 0)\n",
    "    plt.scatter(idx, degree_density[idx], label=\"Empirical\", c='tab:green', s=20)\n",
    "    degrees = dict(G.degree).values()\n",
    "    k_space = np.arange(min(degrees), max(degrees))\n",
    "    plt.plot(k_space, st.binom(*estimate_binomial(G)).pmf(k_space), label=\"Binomial\")\n",
    "    plt.plot(k_space, st.poisson(estimate_poisson(G)).pmf(k_space), label=\"Poisson\")\n",
    "    plt.title(f'n={n}, p={p:.2f}, lambda={n*p:.0f}')\n",
    "plt.legend()\n",
    "plt.show()"
   ]
  },
  {
   "cell_type": "markdown",
   "id": "ad19c95f",
   "metadata": {},
   "source": [
    "### Task 3. Degree distribution of random vs real networks (0 points)"
   ]
  },
  {
   "cell_type": "code",
   "execution_count": null,
   "id": "b211adf4",
   "metadata": {},
   "outputs": [],
   "source": [
    "url = 'https://raw.githubusercontent.com/netspractice/network-science/main/datasets/wiki_vote.txt'\n",
    "open('wiki_vote.txt', 'wb').write(requests.get(url).content)\n",
    "\n",
    "url = 'https://raw.githubusercontent.com/netspractice/network-science/main/datasets/facebook_combined.txt'\n",
    "open('facebook_combined.txt', 'wb').write(requests.get(url).content)\n",
    "\n",
    "url = 'https://raw.githubusercontent.com/netspractice/network-science/main/datasets/collaboration_network_of_arxiv_general_relativity_category.txt'\n",
    "open('collaboration_network_of_arxiv_general_relativity_category.txt', 'wb').write(requests.get(url).content);\n"
   ]
  },
  {
   "cell_type": "markdown",
   "id": "aea851a7",
   "metadata": {},
   "source": [
    "Let us compare degree distributions of real and random networks and decide whether they are close or not.\n",
    "\n",
    "Write a function `random_from_real` that takes a graph and returns a random network that has the same average node degree and the same number of nodes as a given network. "
   ]
  },
  {
   "cell_type": "code",
   "execution_count": null,
   "id": "77d4ce50",
   "metadata": {
    "deletable": false,
    "nbgrader": {
     "cell_type": "code",
     "checksum": "a08c8750814441fab232f64de4b5d569",
     "grade": false,
     "grade_id": "cell-92113b6a2ff4c1f8",
     "locked": false,
     "schema_version": 3,
     "solution": true,
     "task": false
    }
   },
   "outputs": [],
   "source": [
    "def random_from_real(graph):\n",
    "    # YOUR CODE HERE\n",
    "    raise NotImplementedError()"
   ]
  },
  {
   "cell_type": "code",
   "execution_count": null,
   "id": "d1ff646d",
   "metadata": {
    "deletable": false,
    "editable": false,
    "nbgrader": {
     "cell_type": "code",
     "checksum": "1f174115d685e1a2e5c575f4b2ba1117",
     "grade": true,
     "grade_id": "cell-59eb008aa4354142",
     "locked": true,
     "points": 0.0,
     "schema_version": 3,
     "solution": false,
     "task": false
    }
   },
   "outputs": [],
   "source": [
    "for file in ['wiki_vote.txt', \n",
    "             'collaboration_network_of_arxiv_general_relativity_category.txt', \n",
    "             'facebook_combined.txt']:\n",
    "    real_net = nx.read_edgelist(file)\n",
    "    random_net = random_from_real(real_net)\n",
    "    av_degree_random = np.mean(list(dict(random_net.degree).values()))\n",
    "    av_degree_real = np.mean(list(dict(real_net.degree).values()))\n",
    "    assert len(random_net) == len(real_net)\n",
    "    assert np.abs(av_degree_random - av_degree_real) < 1"
   ]
  },
  {
   "cell_type": "code",
   "execution_count": null,
   "id": "907e6985",
   "metadata": {},
   "outputs": [],
   "source": [
    "cases = [['Wikipedia votes', 'wiki_vote.txt'], \n",
    "         ['Collaboration network', 'collaboration_network_of_arxiv_general_relativity_category.txt'], \n",
    "         ['Facebook', 'facebook_combined.txt']]\n",
    "for title, file in cases:\n",
    "    real_net = nx.read_edgelist(file)\n",
    "    random_net = random_from_real(real_net)\n",
    "    degree_hist = np.array(nx.degree_histogram(random_net))\n",
    "    idx = np.argwhere(degree_hist > 0)\n",
    "    plt.scatter(idx, degree_hist[idx], s=10, label='Random network')\n",
    "    degree_hist = np.array(nx.degree_histogram(real_net))\n",
    "    idx = np.argwhere(degree_hist > 0)\n",
    "    plt.scatter(idx, degree_hist[idx], s=10, label='Real network')\n",
    "    plt.legend()\n",
    "    plt.xlabel('k')\n",
    "    plt.ylabel('p(k)')\n",
    "    plt.title(title)\n",
    "    plt.xscale('log')\n",
    "    plt.yscale('log')\n",
    "    plt.show()"
   ]
  },
  {
   "cell_type": "markdown",
   "id": "2969dd3f",
   "metadata": {},
   "source": [
    "### Task 4. Size of components in random graphs (3 points)"
   ]
  },
  {
   "cell_type": "markdown",
   "id": "ffb75077",
   "metadata": {},
   "source": [
    "Let us see how the size of small components (small — not giant) depends on the probability near the critical point: $p =1/n$.\n",
    "\n",
    "Write a function `small_component_size` with parameters `n` — number of nodes, `probabilities` — np.array of probabilities. The function generates a random graph for each probability and returns np.array of average sizes of small components.\n",
    "\n",
    "*Hint: to find nodes in components, use `nx.connected_components(graph)`*"
   ]
  },
  {
   "cell_type": "code",
   "execution_count": null,
   "id": "0ec622d4",
   "metadata": {
    "deletable": false,
    "nbgrader": {
     "cell_type": "code",
     "checksum": "562105a14eb97386f2d555fec24971a1",
     "grade": false,
     "grade_id": "cell-c44a46b500972535",
     "locked": false,
     "schema_version": 3,
     "solution": true,
     "task": false
    }
   },
   "outputs": [],
   "source": [
    "def small_component_size(n, probabilities):\n",
    "    # YOUR CODE HERE\n",
    "    raise NotImplementedError()"
   ]
  },
  {
   "cell_type": "code",
   "execution_count": null,
   "id": "226b446e",
   "metadata": {
    "deletable": false,
    "editable": false,
    "nbgrader": {
     "cell_type": "code",
     "checksum": "051ed31b3f8fe5eb1597291404cbc5a5",
     "grade": true,
     "grade_id": "cell-7ebf6fbd6f5dd008",
     "locked": true,
     "points": 1.5,
     "schema_version": 3,
     "solution": false,
     "task": false
    }
   },
   "outputs": [],
   "source": [
    "n = 1000\n",
    "p_space = np.linspace(0.01/n, 2.5/n, 50)\n",
    "sizes = []\n",
    "for _ in range(5):\n",
    "    size = small_component_size(n, p_space)\n",
    "    assert size.shape == (50,)\n",
    "    sizes.append(size)\n",
    "\n",
    "av_sizes = np.mean(sizes, axis=0)\n",
    "assert av_sizes[0] < av_sizes[np.argmin(np.abs(p_space*n - 1))]\n",
    "assert av_sizes[49] < av_sizes[np.argmin(np.abs(p_space*n - 1))]"
   ]
  },
  {
   "cell_type": "code",
   "execution_count": null,
   "id": "5048c5cc",
   "metadata": {},
   "outputs": [],
   "source": [
    "for i in range(5):\n",
    "    plt.plot(p_space*n, sizes[i], c='tab:blue', alpha=0.5)\n",
    "plt.plot([1, 1], [1, 2.6], 'k--', label='Critical point')\n",
    "plt.xlabel('<k>')\n",
    "plt.ylabel('Average size of small components')\n",
    "plt.legend()\n",
    "plt.grid()\n",
    "plt.show()"
   ]
  },
  {
   "cell_type": "markdown",
   "id": "4bc743eb",
   "metadata": {},
   "source": [
    "Also let us see how the size of a giant component depends on the probability near the critical point.\n",
    "\n",
    "Write a function `giant_component_size` with parameters `n` — number of nodes, `probabilities` — np.array of probabilities. The function generates a random graph for each probability and returns np.array of sizes of a giant component.\n",
    "\n",
    "*Hint: to find nodes in a ginat component, use `max(nx.connected_components(graph), key=len)`*"
   ]
  },
  {
   "cell_type": "code",
   "execution_count": null,
   "id": "c70bc981",
   "metadata": {
    "deletable": false,
    "nbgrader": {
     "cell_type": "code",
     "checksum": "0819a0c56cf2b22a7584e2f6784e94c4",
     "grade": false,
     "grade_id": "cell-aac3a4965109b67f",
     "locked": false,
     "schema_version": 3,
     "solution": true,
     "task": false
    }
   },
   "outputs": [],
   "source": [
    "def giant_component_size(n, probabilities):\n",
    "    # YOUR CODE HERE\n",
    "    raise NotImplementedError()"
   ]
  },
  {
   "cell_type": "code",
   "execution_count": null,
   "id": "e1e9fbc8",
   "metadata": {
    "deletable": false,
    "editable": false,
    "nbgrader": {
     "cell_type": "code",
     "checksum": "aae489f9b422953b10f0df08a9e2d10d",
     "grade": true,
     "grade_id": "cell-4183154a87c82a6e",
     "locked": true,
     "points": 1.5,
     "schema_version": 3,
     "solution": false,
     "task": false
    }
   },
   "outputs": [],
   "source": [
    "n = 1000\n",
    "p_space = np.linspace(0.01/n, 2.5/n, 50)\n",
    "sizes = []\n",
    "for _ in range(5):\n",
    "    size = giant_component_size(n, p_space)\n",
    "    assert size.shape == (50,)\n",
    "    sizes.append(size)\n",
    "\n",
    "av_sizes = np.mean(sizes, axis=0)\n",
    "assert av_sizes[0] < 20\n",
    "assert 20 < av_sizes[np.argmin(np.abs(p_space*n - 1))] < 150\n",
    "assert 700 < av_sizes[np.argmin(np.abs(p_space*n - 2))] < 900"
   ]
  },
  {
   "cell_type": "code",
   "execution_count": null,
   "id": "5bf5f52a",
   "metadata": {},
   "outputs": [],
   "source": [
    "for i in range(5):\n",
    "    plt.plot(p_space*n, sizes[i], c='tab:blue', alpha=0.5)\n",
    "plt.plot([1, 1], [0, 1000], 'k--', label='Critical point')\n",
    "plt.xlabel('<k>')\n",
    "plt.ylabel('Size of a giant component')\n",
    "plt.legend()\n",
    "plt.grid()\n",
    "plt.show()"
   ]
  },
  {
   "cell_type": "markdown",
   "id": "4cfdb2c7",
   "metadata": {},
   "source": [
    "### Task 5. Average path length in random graphs (2 points)"
   ]
  },
  {
   "cell_type": "markdown",
   "id": "3cb1397b",
   "metadata": {},
   "source": [
    "In this task, we consider whether a random network is capable to model the small world phenomenon, also known as six degrees of separation — the distance between two randomly chosen nodes in a network is short. In other words, the average path length between two randomly chosen nodes increases in a growing network, but not so fast as the number of nodes.\n",
    "\n",
    "Write a function `growing_path_len` with parameters: `av_node_degree` is an average node degree and `n_nodes` is a np.array of numbers of nodes. The function generates a random network for each number of nodes and returns a np.array of average path lengths.\n",
    "\n",
    "*Hints:*\n",
    "* *To calculate average path length, use `nx.average_shortest_path_length`*\n",
    "* *Consider a giant component only*\n",
    "* *To find nodes in a ginat component, use `max(nx.connected_components(graph), key=len)`*\n",
    "* *To create a subgraph, use `graph.subgraph(nodes).copy()`*"
   ]
  },
  {
   "cell_type": "code",
   "execution_count": null,
   "id": "0d6311a6",
   "metadata": {
    "deletable": false,
    "nbgrader": {
     "cell_type": "code",
     "checksum": "f530456d83f507953b14b9b7db573ce5",
     "grade": false,
     "grade_id": "cell-e15b2b6fa514857e",
     "locked": false,
     "schema_version": 3,
     "solution": true,
     "task": false
    }
   },
   "outputs": [],
   "source": [
    "def growing_path_len(av_node_degree, n_nodes):\n",
    "    # YOUR CODE HERE\n",
    "    raise NotImplementedError()"
   ]
  },
  {
   "cell_type": "code",
   "execution_count": null,
   "id": "5236af28",
   "metadata": {
    "deletable": false,
    "editable": false,
    "nbgrader": {
     "cell_type": "code",
     "checksum": "c6f5f26c8b616bcda61c29dde5b289a0",
     "grade": true,
     "grade_id": "cell-ce599f81a9578da6",
     "locked": true,
     "points": 2.0,
     "schema_version": 3,
     "solution": false,
     "task": false
    }
   },
   "outputs": [],
   "source": [
    "n_nodes = np.arange(100, 1100, 100)\n",
    "av_node_degree = 50\n",
    "lengths = growing_path_len(av_node_degree, n_nodes)\n",
    "\n",
    "assert lengths.shape == (10,)\n",
    "assert 1.4 < lengths[0] < 1.6\n",
    "assert 1.9 < lengths[5] < 1.95\n",
    "assert 2 < lengths[9] < 2.1"
   ]
  },
  {
   "cell_type": "code",
   "execution_count": null,
   "id": "5b7fd4e0",
   "metadata": {},
   "outputs": [],
   "source": [
    "plt.plot(n_nodes, lengths, label='Random network')\n",
    "plt.xlabel('N')\n",
    "plt.ylabel('Average path length')\n",
    "plt.plot(n_nodes, 0.31 * np.log(n_nodes), label='$y=C\\log(x)$')\n",
    "plt.legend()\n",
    "plt.show()"
   ]
  },
  {
   "cell_type": "markdown",
   "id": "2705dc46",
   "metadata": {},
   "source": [
    "As we see, the small world phenomenon holds — the average path length increases at most logarithmically with respect to the number of nodes. Theoretically, the diameter $d_\\max$ in a random network is\n",
    "\n",
    "$$d_\\max \\approx \\frac{\\ln N}{\\ln \\langle k \\rangle}$$\n",
    "\n",
    "that corresponds to some real scale-free networks."
   ]
  },
  {
   "cell_type": "markdown",
   "id": "290a1d3b",
   "metadata": {},
   "source": [
    "### Task 6. Clustering coefficients of random vs real networks (3 points)"
   ]
  },
  {
   "cell_type": "markdown",
   "id": "5294e3a5",
   "metadata": {},
   "source": [
    "Clustering coefficient of a node $C_i$ contains information about relationship between nearest neighbors.  $C_i = 0$ means that there is no links between neighbors and $C_i = 1$ means that there are all possible links between them. Clustering coefficient of an Erdos-Renyi random graph is equal to the probability $p$ and does not dependent of a node and its degree:\n",
    "\n",
    "$$C_i = \\langle C \\rangle = \\frac{\\langle k \\rangle}{n} = p $$\n",
    "\n",
    "Let us check it on generated data.\n",
    "\n",
    "Write a function `node_degree_clustering` with parameters `n, p` — number of nodes and probability. The function generates Erdos-Renyi random graph and returns a tuple with two np.arrays: degrees and clustering coefficients. Ordering of elements should coincide: the first degree and first clustering coefficient are related to the first node and so on.\n",
    "\n",
    "*Hint: to calculate clustering coefficients, use `nx.clustering(graph)`*"
   ]
  },
  {
   "cell_type": "code",
   "execution_count": null,
   "id": "3d3dc374",
   "metadata": {
    "deletable": false,
    "nbgrader": {
     "cell_type": "code",
     "checksum": "bf35c671b6a9160182ee78ebdf178a1b",
     "grade": false,
     "grade_id": "cell-965e3d1a8f46e95d",
     "locked": false,
     "schema_version": 3,
     "solution": true,
     "task": false
    }
   },
   "outputs": [],
   "source": [
    "def node_degree_clustering(n, p):\n",
    "    # YOUR CODE HERE\n",
    "    raise NotImplementedError()"
   ]
  },
  {
   "cell_type": "code",
   "execution_count": null,
   "id": "1a1f37e6",
   "metadata": {
    "deletable": false,
    "editable": false,
    "nbgrader": {
     "cell_type": "code",
     "checksum": "18c23c1c2931d2a07a93d5d284cbfb2d",
     "grade": true,
     "grade_id": "cell-a0312f4517f72a06",
     "locked": true,
     "points": 3.0,
     "schema_version": 3,
     "solution": false,
     "task": false
    }
   },
   "outputs": [],
   "source": [
    "p = 0.9\n",
    "n = 100\n",
    "degree, clustering = node_degree_clustering(n, p)\n",
    "assert degree.shape == clustering.shape\n",
    "assert clustering.mean() - 3*clustering.std() < p < clustering.mean() + 3*clustering.std()\n",
    "assert degree.mean() - 3*degree.std() < p * n < degree.mean() + 3*degree.std()\n",
    "p = 0.1\n",
    "n = 1000\n",
    "degree, clustering = node_degree_clustering(n, p)\n",
    "assert degree.shape == clustering.shape\n",
    "assert clustering.mean() - 3*clustering.std() < p < clustering.mean() + 3*clustering.std()\n",
    "assert degree.mean() - 3*degree.std() < p * n < degree.mean() + 3*degree.std()\n",
    "p = 0.01\n",
    "n = 3000\n",
    "degree, clustering = node_degree_clustering(n, p)\n",
    "assert degree.shape == clustering.shape\n",
    "assert clustering.mean() - 3*clustering.std() < p < clustering.mean() + 3*clustering.std()\n",
    "assert degree.mean() - 3*degree.std() < p * n < degree.mean() + 3*degree.std()"
   ]
  },
  {
   "cell_type": "markdown",
   "id": "7d3706f8",
   "metadata": {},
   "source": [
    "Let us draw the dependency between node degree and clustering coefficient"
   ]
  },
  {
   "cell_type": "code",
   "execution_count": null,
   "id": "db1ad1ed",
   "metadata": {},
   "outputs": [],
   "source": [
    "p = 0.1\n",
    "n = 1000\n",
    "degree, clustering = node_degree_clustering(n, p)\n",
    "plt.scatter(degree, clustering, s=15, linewidths=0.3)\n",
    "plt.plot([degree.min(), degree.max()], [p, p], 'k--', label='Probability')\n",
    "plt.xlabel('Node degree')\n",
    "plt.ylabel('Clustering coefficient')\n",
    "plt.legend()\n",
    "plt.grid()\n",
    "plt.show()"
   ]
  },
  {
   "cell_type": "markdown",
   "id": "4feb5046",
   "metadata": {},
   "source": [
    "Let us look at the dependency of a some real social network."
   ]
  },
  {
   "cell_type": "code",
   "execution_count": null,
   "id": "b0015dc1",
   "metadata": {},
   "outputs": [],
   "source": [
    "degree = np.loadtxt(\n",
    "    'https://raw.githubusercontent.com/netspractice/network-science/main/datasets/real_net_degree.txt'\n",
    ")\n",
    "clustering = np.loadtxt(\n",
    "    'https://raw.githubusercontent.com/netspractice/network-science/main/datasets/real_net_clustering.txt'\n",
    ")\n",
    "plt.scatter(degree, clustering, s=15, linewidths=0.3)\n",
    "plt.xlabel('Node degree')\n",
    "plt.ylabel('Clustering coefficient')\n",
    "plt.grid()\n",
    "plt.show()"
   ]
  },
  {
   "cell_type": "markdown",
   "id": "f5c3acf4",
   "metadata": {},
   "source": [
    "We can see that the average clustering coefficient slightly decreases in high degrees."
   ]
  },
  {
   "cell_type": "markdown",
   "id": "0f651ce1",
   "metadata": {},
   "source": [
    "### Task 7. Snobbish networks (2 points)"
   ]
  },
  {
   "cell_type": "markdown",
   "id": "e9e9edac",
   "metadata": {},
   "source": [
    "Consider a network of $N$ red and $N$ blue nodes. The probability that there is a link between nodes of identical color is $p$ and the probability that there is a link between nodes of different color is $q$. A network is snobbish if $p>q$, capturing a tendency to connect to nodes of the same color. For $q = 0$ the network has at least two components, containing nodes with the same color.\n",
    "\n",
    "Write a function `snobbish_network` that takes the number of red (or blue) nodes `n`, probability of link between nodes of the same color `p` and probability of link between nodes of different color `q`. The function returns a network with $2N$ nodes where every node has an attribute `color` that can be `blue` or `red`.\n",
    "\n",
    "*Hint: to set node attributes, use `nx.set_node_attributes`*"
   ]
  },
  {
   "cell_type": "code",
   "execution_count": null,
   "id": "dd6853a9",
   "metadata": {
    "deletable": false,
    "nbgrader": {
     "cell_type": "code",
     "checksum": "1c33036d546a891252b9a8a1af4dbdf7",
     "grade": false,
     "grade_id": "cell-4f50e33c87484848",
     "locked": false,
     "schema_version": 3,
     "solution": true,
     "task": false
    }
   },
   "outputs": [],
   "source": [
    "def snobbish_network(n, p, q):\n",
    "    # YOUR CODE HERE\n",
    "    raise NotImplementedError()"
   ]
  },
  {
   "cell_type": "code",
   "execution_count": null,
   "id": "a771cab5",
   "metadata": {
    "deletable": false,
    "editable": false,
    "nbgrader": {
     "cell_type": "code",
     "checksum": "c6c5bda7ca4340723349b72f7c18fb43",
     "grade": true,
     "grade_id": "cell-0d8fbdb837d4ddc3",
     "locked": true,
     "points": 2.0,
     "schema_version": 3,
     "solution": false,
     "task": false
    }
   },
   "outputs": [],
   "source": [
    "sn_net = snobbish_network(100, 0.1, 0.01)\n",
    "assert sn_net.number_of_nodes() == 200\n",
    "assert set(nx.get_node_attributes(sn_net, 'color').values()) == {'blue', 'red'}\n",
    "assert np.sum(np.array(list(nx.get_node_attributes(sn_net, 'color').values())) == 'red') == 100\n",
    "assert 0.76 < nx.attribute_assortativity_coefficient(sn_net, 'color') < 0.88\n",
    "sn_net = snobbish_network(200, 0.1, 0.05)\n",
    "assert 0.25 < nx.attribute_assortativity_coefficient(sn_net, 'color') < 0.4"
   ]
  },
  {
   "cell_type": "code",
   "execution_count": null,
   "id": "9bc0aab5",
   "metadata": {},
   "outputs": [],
   "source": [
    "plt.figure(figsize=(10, 8))\n",
    "sn_net = snobbish_network(100, 0.1, 0.01)\n",
    "pos = nx.spring_layout(sn_net)\n",
    "nx.draw_networkx_nodes(\n",
    "    sn_net, \n",
    "    pos=pos,\n",
    "    node_color=nx.get_node_attributes(sn_net, 'color').values(), \n",
    "    node_size=50)\n",
    "nx.draw_networkx_edges(sn_net, pos=pos, alpha=0.3)\n",
    "plt.axis('off')\n",
    "plt.show()"
   ]
  },
  {
   "cell_type": "code",
   "execution_count": null,
   "id": "68080b21",
   "metadata": {},
   "outputs": [],
   "source": []
  }
 ],
 "metadata": {
  "kernelspec": {
   "display_name": "Python 3",
   "language": "python",
   "name": "python3"
  },
  "language_info": {
   "codemirror_mode": {
    "name": "ipython",
    "version": 3
   },
   "file_extension": ".py",
   "mimetype": "text/x-python",
   "name": "python",
   "nbconvert_exporter": "python",
   "pygments_lexer": "ipython3",
   "version": "3.7.4"
  }
 },
 "nbformat": 4,
 "nbformat_minor": 5
}
